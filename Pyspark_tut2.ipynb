{
 "cells": [
  {
   "cell_type": "code",
   "execution_count": 1,
   "id": "d9dd06cf",
   "metadata": {},
   "outputs": [],
   "source": [
    "from pyspark.sql import SparkSession"
   ]
  },
  {
   "cell_type": "code",
   "execution_count": 2,
   "id": "ca188335",
   "metadata": {},
   "outputs": [],
   "source": [
    "spart= SparkSession.builder.appName('Dataframe').getOrCreate()"
   ]
  },
  {
   "cell_type": "code",
   "execution_count": 3,
   "id": "12b2e547",
   "metadata": {},
   "outputs": [
    {
     "data": {
      "text/html": [
       "\n",
       "            <div>\n",
       "                <p><b>SparkSession - in-memory</b></p>\n",
       "                \n",
       "        <div>\n",
       "            <p><b>SparkContext</b></p>\n",
       "\n",
       "            <p><a href=\"http://Admin:4041\">Spark UI</a></p>\n",
       "\n",
       "            <dl>\n",
       "              <dt>Version</dt>\n",
       "                <dd><code>v3.3.2</code></dd>\n",
       "              <dt>Master</dt>\n",
       "                <dd><code>local[*]</code></dd>\n",
       "              <dt>AppName</dt>\n",
       "                <dd><code>Dataframe</code></dd>\n",
       "            </dl>\n",
       "        </div>\n",
       "        \n",
       "            </div>\n",
       "        "
      ],
      "text/plain": [
       "<pyspark.sql.session.SparkSession at 0x244f0fa8160>"
      ]
     },
     "execution_count": 3,
     "metadata": {},
     "output_type": "execute_result"
    }
   ],
   "source": [
    "spart"
   ]
  },
  {
   "cell_type": "code",
   "execution_count": 12,
   "id": "e8646781",
   "metadata": {},
   "outputs": [],
   "source": [
    "## read the dataset\n",
    "df_pyspark=spart.read.option('header','true').csv('polls.csv',inferSchema=True)"
   ]
  },
  {
   "cell_type": "code",
   "execution_count": 13,
   "id": "7cf39ebd",
   "metadata": {},
   "outputs": [
    {
     "name": "stdout",
     "output_type": "stream",
     "text": [
      "+-----+-----+\n",
      "|Party|Votes|\n",
      "+-----+-----+\n",
      "|india|  342|\n",
      "|  USA|   30|\n",
      "|Nepal|    8|\n",
      "+-----+-----+\n",
      "\n"
     ]
    }
   ],
   "source": [
    "df_pyspark.show()"
   ]
  },
  {
   "cell_type": "code",
   "execution_count": 14,
   "id": "0b01f8bd",
   "metadata": {},
   "outputs": [
    {
     "name": "stdout",
     "output_type": "stream",
     "text": [
      "root\n",
      " |-- Party: string (nullable = true)\n",
      " |-- Votes: integer (nullable = true)\n",
      "\n"
     ]
    }
   ],
   "source": [
    "### check the schema\n",
    "df_pyspark.printSchema()"
   ]
  },
  {
   "cell_type": "code",
   "execution_count": 15,
   "id": "330fc277",
   "metadata": {},
   "outputs": [],
   "source": [
    "df_spark=spart.read.csv('polls.csv',header=True,inferSchema=True)"
   ]
  },
  {
   "cell_type": "code",
   "execution_count": 16,
   "id": "b2292a2f",
   "metadata": {},
   "outputs": [
    {
     "name": "stdout",
     "output_type": "stream",
     "text": [
      "+-----+-----+\n",
      "|Party|Votes|\n",
      "+-----+-----+\n",
      "|india|  342|\n",
      "|  USA|   30|\n",
      "|Nepal|    8|\n",
      "+-----+-----+\n",
      "\n"
     ]
    }
   ],
   "source": [
    "df_spark.show()"
   ]
  },
  {
   "cell_type": "code",
   "execution_count": 17,
   "id": "3500aa08",
   "metadata": {},
   "outputs": [
    {
     "name": "stdout",
     "output_type": "stream",
     "text": [
      "root\n",
      " |-- Party: string (nullable = true)\n",
      " |-- Votes: integer (nullable = true)\n",
      "\n"
     ]
    }
   ],
   "source": [
    "df_pyspark.printSchema()"
   ]
  },
  {
   "cell_type": "code",
   "execution_count": 18,
   "id": "d39d8782",
   "metadata": {},
   "outputs": [
    {
     "data": {
      "text/plain": [
       "pyspark.sql.dataframe.DataFrame"
      ]
     },
     "execution_count": 18,
     "metadata": {},
     "output_type": "execute_result"
    }
   ],
   "source": [
    "type(df_pyspark)"
   ]
  },
  {
   "cell_type": "code",
   "execution_count": 20,
   "id": "309e8b28",
   "metadata": {},
   "outputs": [
    {
     "data": {
      "text/plain": [
       "['Party', 'Votes']"
      ]
     },
     "execution_count": 20,
     "metadata": {},
     "output_type": "execute_result"
    }
   ],
   "source": [
    "df_pyspark.columns"
   ]
  },
  {
   "cell_type": "code",
   "execution_count": 21,
   "id": "7e8f9347",
   "metadata": {},
   "outputs": [
    {
     "data": {
      "text/plain": [
       "[Row(Party='india', Votes=342),\n",
       " Row(Party='USA', Votes=30),\n",
       " Row(Party='Nepal', Votes=8)]"
      ]
     },
     "execution_count": 21,
     "metadata": {},
     "output_type": "execute_result"
    }
   ],
   "source": [
    "df_pyspark.head(3)"
   ]
  },
  {
   "cell_type": "code",
   "execution_count": 22,
   "id": "f9e84ffe",
   "metadata": {},
   "outputs": [
    {
     "name": "stdout",
     "output_type": "stream",
     "text": [
      "+-----+-----+\n",
      "|Party|Votes|\n",
      "+-----+-----+\n",
      "|india|  342|\n",
      "|  USA|   30|\n",
      "|Nepal|    8|\n",
      "+-----+-----+\n",
      "\n"
     ]
    }
   ],
   "source": [
    "df_pyspark.show()"
   ]
  },
  {
   "cell_type": "code",
   "execution_count": 23,
   "id": "6e5154af",
   "metadata": {},
   "outputs": [
    {
     "data": {
      "text/plain": [
       "DataFrame[Party: string]"
      ]
     },
     "execution_count": 23,
     "metadata": {},
     "output_type": "execute_result"
    }
   ],
   "source": [
    "df_pyspark.select('Party')"
   ]
  },
  {
   "cell_type": "code",
   "execution_count": 30,
   "id": "12c12afe",
   "metadata": {},
   "outputs": [
    {
     "name": "stdout",
     "output_type": "stream",
     "text": [
      "+-----+\n",
      "|Party|\n",
      "+-----+\n",
      "|india|\n",
      "|  USA|\n",
      "|Nepal|\n",
      "+-----+\n",
      "\n"
     ]
    }
   ],
   "source": [
    "df_pyspark.select('Party').show()"
   ]
  },
  {
   "cell_type": "code",
   "execution_count": 32,
   "id": "a8ae1253",
   "metadata": {},
   "outputs": [
    {
     "data": {
      "text/plain": [
       "pyspark.sql.dataframe.DataFrame"
      ]
     },
     "execution_count": 32,
     "metadata": {},
     "output_type": "execute_result"
    }
   ],
   "source": [
    "type(df_pyspark.select('Party'))"
   ]
  },
  {
   "cell_type": "code",
   "execution_count": 33,
   "id": "50b1176b",
   "metadata": {},
   "outputs": [
    {
     "data": {
      "text/plain": [
       "DataFrame[Party: string, Votes: int]"
      ]
     },
     "execution_count": 33,
     "metadata": {},
     "output_type": "execute_result"
    }
   ],
   "source": [
    "df_pyspark.select(['Party','Votes'])"
   ]
  },
  {
   "cell_type": "code",
   "execution_count": 34,
   "id": "0d83fff6",
   "metadata": {},
   "outputs": [
    {
     "name": "stdout",
     "output_type": "stream",
     "text": [
      "+-----+-----+\n",
      "|Party|Votes|\n",
      "+-----+-----+\n",
      "|india|  342|\n",
      "|  USA|   30|\n",
      "|Nepal|    8|\n",
      "+-----+-----+\n",
      "\n"
     ]
    }
   ],
   "source": [
    "df_pyspark.select(['Party','Votes']).show()"
   ]
  },
  {
   "cell_type": "code",
   "execution_count": 35,
   "id": "6da6769e",
   "metadata": {},
   "outputs": [
    {
     "data": {
      "text/plain": [
       "Column<'Party'>"
      ]
     },
     "execution_count": 35,
     "metadata": {},
     "output_type": "execute_result"
    }
   ],
   "source": [
    "df_pyspark['Party']"
   ]
  },
  {
   "cell_type": "code",
   "execution_count": 36,
   "id": "cef3d6b5",
   "metadata": {},
   "outputs": [
    {
     "data": {
      "text/plain": [
       "[('Party', 'string'), ('Votes', 'int')]"
      ]
     },
     "execution_count": 36,
     "metadata": {},
     "output_type": "execute_result"
    }
   ],
   "source": [
    "df_pyspark.dtypes"
   ]
  },
  {
   "cell_type": "code",
   "execution_count": 38,
   "id": "2bb7dc83",
   "metadata": {},
   "outputs": [
    {
     "data": {
      "text/plain": [
       "DataFrame[summary: string, Party: string, Votes: string]"
      ]
     },
     "execution_count": 38,
     "metadata": {},
     "output_type": "execute_result"
    }
   ],
   "source": [
    "df_pyspark.describe()"
   ]
  },
  {
   "cell_type": "code",
   "execution_count": 39,
   "id": "1dba3853",
   "metadata": {},
   "outputs": [
    {
     "name": "stdout",
     "output_type": "stream",
     "text": [
      "+-------+-----+------------------+\n",
      "|summary|Party|             Votes|\n",
      "+-------+-----+------------------+\n",
      "|  count|    3|                 3|\n",
      "|   mean| null|126.66666666666667|\n",
      "| stddev| null|186.80827961665224|\n",
      "|    min|Nepal|                 8|\n",
      "|    max|india|               342|\n",
      "+-------+-----+------------------+\n",
      "\n"
     ]
    }
   ],
   "source": [
    "df_pyspark.describe().show()"
   ]
  },
  {
   "cell_type": "code",
   "execution_count": 40,
   "id": "bf8f1816",
   "metadata": {},
   "outputs": [
    {
     "data": {
      "text/plain": [
       "DataFrame[Party: string, Votes: int, Votes after 2 years: int]"
      ]
     },
     "execution_count": 40,
     "metadata": {},
     "output_type": "execute_result"
    }
   ],
   "source": [
    "### Adding columns in data frames\n",
    "df_pyspark.withColumn('Votes after 2 years',df_pyspark['Votes']+20)"
   ]
  },
  {
   "cell_type": "code",
   "execution_count": 42,
   "id": "41a8301a",
   "metadata": {},
   "outputs": [
    {
     "name": "stdout",
     "output_type": "stream",
     "text": [
      "+-----+-----+-------------------+\n",
      "|Party|Votes|Votes after 2 years|\n",
      "+-----+-----+-------------------+\n",
      "|india|  342|                362|\n",
      "|  USA|   30|                 50|\n",
      "|Nepal|    8|                 28|\n",
      "+-----+-----+-------------------+\n",
      "\n"
     ]
    }
   ],
   "source": [
    "df_pyspark.withColumn('Votes after 2 years',df_pyspark['Votes']+20).show()"
   ]
  },
  {
   "cell_type": "code",
   "execution_count": 44,
   "id": "189a36ee",
   "metadata": {},
   "outputs": [
    {
     "data": {
      "text/plain": [
       "DataFrame[Party: string, Votes: int]"
      ]
     },
     "execution_count": 44,
     "metadata": {},
     "output_type": "execute_result"
    }
   ],
   "source": [
    "df_pyspark.drop('Votes after 2 years')"
   ]
  },
  {
   "cell_type": "code",
   "execution_count": 45,
   "id": "1428c153",
   "metadata": {},
   "outputs": [
    {
     "name": "stdout",
     "output_type": "stream",
     "text": [
      "+-----+-----+\n",
      "|Party|Votes|\n",
      "+-----+-----+\n",
      "|india|  342|\n",
      "|  USA|   30|\n",
      "|Nepal|    8|\n",
      "+-----+-----+\n",
      "\n"
     ]
    }
   ],
   "source": [
    "df_pyspark.drop('Votes after 2 years').show()"
   ]
  },
  {
   "cell_type": "code",
   "execution_count": 46,
   "id": "02beadd0",
   "metadata": {},
   "outputs": [
    {
     "data": {
      "text/plain": [
       "DataFrame[New Party: string, Votes: int]"
      ]
     },
     "execution_count": 46,
     "metadata": {},
     "output_type": "execute_result"
    }
   ],
   "source": [
    "### rename the column\n",
    "df_pyspark.withColumnRenamed('Party','New Party')"
   ]
  },
  {
   "cell_type": "code",
   "execution_count": 48,
   "id": "9569c3ff",
   "metadata": {},
   "outputs": [
    {
     "name": "stdout",
     "output_type": "stream",
     "text": [
      "+---------+-----+\n",
      "|New Party|Votes|\n",
      "+---------+-----+\n",
      "|    india|  342|\n",
      "|      USA|   30|\n",
      "|    Nepal|    8|\n",
      "+---------+-----+\n",
      "\n"
     ]
    }
   ],
   "source": [
    "df_pyspark.withColumnRenamed('Party','New Party').show()"
   ]
  },
  {
   "cell_type": "code",
   "execution_count": null,
   "id": "b80fdeec",
   "metadata": {},
   "outputs": [],
   "source": []
  }
 ],
 "metadata": {
  "kernelspec": {
   "display_name": "Python 3 (ipykernel)",
   "language": "python",
   "name": "python3"
  },
  "language_info": {
   "codemirror_mode": {
    "name": "ipython",
    "version": 3
   },
   "file_extension": ".py",
   "mimetype": "text/x-python",
   "name": "python",
   "nbconvert_exporter": "python",
   "pygments_lexer": "ipython3",
   "version": "3.10.5"
  }
 },
 "nbformat": 4,
 "nbformat_minor": 5
}
