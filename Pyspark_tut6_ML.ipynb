{
 "cells": [
  {
   "cell_type": "code",
   "execution_count": 1,
   "id": "8faa50b3",
   "metadata": {},
   "outputs": [],
   "source": [
    "import pyspark"
   ]
  },
  {
   "cell_type": "code",
   "execution_count": 2,
   "id": "82c81be9",
   "metadata": {},
   "outputs": [],
   "source": [
    "from pyspark.sql import SparkSession"
   ]
  },
  {
   "cell_type": "code",
   "execution_count": 4,
   "id": "f4f7ca58",
   "metadata": {},
   "outputs": [],
   "source": [
    "spart = SparkSession.builder.appName('missing').getOrCreate() "
   ]
  },
  {
   "cell_type": "code",
   "execution_count": 6,
   "id": "c585b0f7",
   "metadata": {},
   "outputs": [],
   "source": [
    "## Read the dataset\n",
    "training = spart.read.csv('emp_ml.csv',header=True, inferSchema = True)"
   ]
  },
  {
   "cell_type": "code",
   "execution_count": 7,
   "id": "d589f972",
   "metadata": {},
   "outputs": [
    {
     "name": "stdout",
     "output_type": "stream",
     "text": [
      "+------+---+---+------+\n",
      "|  Name|age|exp|Salary|\n",
      "+------+---+---+------+\n",
      "|Sachin| 31| 11| 50000|\n",
      "| Rahul| 34| 16| 60000|\n",
      "|   Raj| 21|  2| 15000|\n",
      "|  Kimi| 26|  1| 20000|\n",
      "|  Paul| 23|  5| 24000|\n",
      "|Harsha| 39| 13| 70000|\n",
      "|  Deep| 22|  4| 26000|\n",
      "|  Anna| 20|  2| 15000|\n",
      "+------+---+---+------+\n",
      "\n"
     ]
    }
   ],
   "source": [
    "training.show()"
   ]
  },
  {
   "cell_type": "code",
   "execution_count": 8,
   "id": "d057a687",
   "metadata": {},
   "outputs": [
    {
     "name": "stdout",
     "output_type": "stream",
     "text": [
      "root\n",
      " |-- Name: string (nullable = true)\n",
      " |-- age: integer (nullable = true)\n",
      " |-- exp: integer (nullable = true)\n",
      " |-- Salary: integer (nullable = true)\n",
      "\n"
     ]
    }
   ],
   "source": [
    "training.printSchema()"
   ]
  },
  {
   "cell_type": "code",
   "execution_count": 9,
   "id": "e755eba0",
   "metadata": {},
   "outputs": [
    {
     "data": {
      "text/plain": [
       "['Name', 'age', 'exp', 'Salary']"
      ]
     },
     "execution_count": 9,
     "metadata": {},
     "output_type": "execute_result"
    }
   ],
   "source": [
    "training.columns"
   ]
  },
  {
   "cell_type": "code",
   "execution_count": 14,
   "id": "4a5bfb4b",
   "metadata": {},
   "outputs": [],
   "source": [
    "from pyspark.ml.feature import VectorAssembler\n",
    "featureassembler = VectorAssembler(inputCols=['age','exp'],outputCol='Independent_feature')"
   ]
  },
  {
   "cell_type": "code",
   "execution_count": 15,
   "id": "c7b3e19b",
   "metadata": {},
   "outputs": [],
   "source": [
    "output=featureassembler.transform(training)"
   ]
  },
  {
   "cell_type": "code",
   "execution_count": 16,
   "id": "c9ad9b72",
   "metadata": {},
   "outputs": [
    {
     "name": "stdout",
     "output_type": "stream",
     "text": [
      "+------+---+---+------+-------------------+\n",
      "|  Name|age|exp|Salary|Independent_feature|\n",
      "+------+---+---+------+-------------------+\n",
      "|Sachin| 31| 11| 50000|        [31.0,11.0]|\n",
      "| Rahul| 34| 16| 60000|        [34.0,16.0]|\n",
      "|   Raj| 21|  2| 15000|         [21.0,2.0]|\n",
      "|  Kimi| 26|  1| 20000|         [26.0,1.0]|\n",
      "|  Paul| 23|  5| 24000|         [23.0,5.0]|\n",
      "|Harsha| 39| 13| 70000|        [39.0,13.0]|\n",
      "|  Deep| 22|  4| 26000|         [22.0,4.0]|\n",
      "|  Anna| 20|  2| 15000|         [20.0,2.0]|\n",
      "+------+---+---+------+-------------------+\n",
      "\n"
     ]
    }
   ],
   "source": [
    "output.show()"
   ]
  },
  {
   "cell_type": "code",
   "execution_count": 18,
   "id": "e8f7e91f",
   "metadata": {},
   "outputs": [
    {
     "data": {
      "text/plain": [
       "['Name', 'age', 'exp', 'Salary', 'Independent_feature']"
      ]
     },
     "execution_count": 18,
     "metadata": {},
     "output_type": "execute_result"
    }
   ],
   "source": [
    "output.columns"
   ]
  },
  {
   "cell_type": "code",
   "execution_count": 20,
   "id": "bb90c4be",
   "metadata": {},
   "outputs": [],
   "source": [
    "finalized_data=output.select('Independent_feature','Salary')"
   ]
  },
  {
   "cell_type": "code",
   "execution_count": 21,
   "id": "97162639",
   "metadata": {},
   "outputs": [
    {
     "name": "stdout",
     "output_type": "stream",
     "text": [
      "+-------------------+------+\n",
      "|Independent_feature|Salary|\n",
      "+-------------------+------+\n",
      "|        [31.0,11.0]| 50000|\n",
      "|        [34.0,16.0]| 60000|\n",
      "|         [21.0,2.0]| 15000|\n",
      "|         [26.0,1.0]| 20000|\n",
      "|         [23.0,5.0]| 24000|\n",
      "|        [39.0,13.0]| 70000|\n",
      "|         [22.0,4.0]| 26000|\n",
      "|         [20.0,2.0]| 15000|\n",
      "+-------------------+------+\n",
      "\n"
     ]
    }
   ],
   "source": [
    "finalized_data.show()"
   ]
  },
  {
   "cell_type": "code",
   "execution_count": 43,
   "id": "fe600c29",
   "metadata": {},
   "outputs": [],
   "source": [
    "from pyspark.ml.regression import LinearRegression\n",
    "## Train test split\n",
    "train_data,test_data=finalized_data.randomSplit([0.7,0.3])\n",
    "regressor=LinearRegression(featuresCol='Independent_feature', labelCol='Salary')\n",
    "regressor=regressor.fit(train_data)"
   ]
  },
  {
   "cell_type": "code",
   "execution_count": 44,
   "id": "3e3a1b0c",
   "metadata": {},
   "outputs": [
    {
     "data": {
      "text/plain": [
       "DenseVector([1758.4098, 1710.5866])"
      ]
     },
     "execution_count": 44,
     "metadata": {},
     "output_type": "execute_result"
    }
   ],
   "source": [
    "### Coefficeints\n",
    "regressor.coefficients"
   ]
  },
  {
   "cell_type": "code",
   "execution_count": 45,
   "id": "61b9a3a7",
   "metadata": {},
   "outputs": [
    {
     "data": {
      "text/plain": [
       "-23834.343638754068"
      ]
     },
     "execution_count": 45,
     "metadata": {},
     "output_type": "execute_result"
    }
   ],
   "source": [
    "### Intercepts\n",
    "regressor.intercept"
   ]
  },
  {
   "cell_type": "code",
   "execution_count": 46,
   "id": "8d11bf9c",
   "metadata": {},
   "outputs": [],
   "source": [
    "### prediction\n",
    "pred_results=regressor.evaluate(test_data)"
   ]
  },
  {
   "cell_type": "code",
   "execution_count": 47,
   "id": "de93f6d3",
   "metadata": {},
   "outputs": [
    {
     "name": "stdout",
     "output_type": "stream",
     "text": [
      "+-------------------+------+-----------------+\n",
      "|Independent_feature|Salary|       prediction|\n",
      "+-------------------+------+-----------------+\n",
      "|         [21.0,2.0]| 15000|16513.43445586092|\n",
      "+-------------------+------+-----------------+\n",
      "\n"
     ]
    }
   ],
   "source": [
    "pred_results.predictions.show()"
   ]
  },
  {
   "cell_type": "code",
   "execution_count": 48,
   "id": "02ef44b9",
   "metadata": {},
   "outputs": [
    {
     "data": {
      "text/plain": [
       "(1513.4344558609191, 2290483.8521870365)"
      ]
     },
     "execution_count": 48,
     "metadata": {},
     "output_type": "execute_result"
    }
   ],
   "source": [
    "pred_results.meanAbsoluteError,pred_results.meanSquaredError\n"
   ]
  },
  {
   "cell_type": "code",
   "execution_count": null,
   "id": "bdb35597",
   "metadata": {},
   "outputs": [],
   "source": []
  }
 ],
 "metadata": {
  "kernelspec": {
   "display_name": "Python 3 (ipykernel)",
   "language": "python",
   "name": "python3"
  },
  "language_info": {
   "codemirror_mode": {
    "name": "ipython",
    "version": 3
   },
   "file_extension": ".py",
   "mimetype": "text/x-python",
   "name": "python",
   "nbconvert_exporter": "python",
   "pygments_lexer": "ipython3",
   "version": "3.10.5"
  }
 },
 "nbformat": 4,
 "nbformat_minor": 5
}
