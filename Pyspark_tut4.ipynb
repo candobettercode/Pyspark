{
 "cells": [
  {
   "cell_type": "code",
   "execution_count": 13,
   "id": "9119b191",
   "metadata": {},
   "outputs": [],
   "source": [
    "#1 Pysaprk Filter"
   ]
  },
  {
   "cell_type": "code",
   "execution_count": 1,
   "id": "16c167e1",
   "metadata": {},
   "outputs": [],
   "source": [
    "import pyspark"
   ]
  },
  {
   "cell_type": "code",
   "execution_count": 3,
   "id": "6d0eab34",
   "metadata": {},
   "outputs": [],
   "source": [
    "from pyspark.sql import SparkSession"
   ]
  },
  {
   "cell_type": "code",
   "execution_count": 5,
   "id": "abdcdd42",
   "metadata": {},
   "outputs": [],
   "source": [
    "spart= SparkSession.builder.appName('Practise').getOrCreate()"
   ]
  },
  {
   "cell_type": "code",
   "execution_count": 11,
   "id": "b9556d43",
   "metadata": {},
   "outputs": [],
   "source": [
    "data=spart.read.csv('emp.csv',header=True, inferSchema=True)"
   ]
  },
  {
   "cell_type": "code",
   "execution_count": 12,
   "id": "436d87fa",
   "metadata": {},
   "outputs": [
    {
     "name": "stdout",
     "output_type": "stream",
     "text": [
      "+------+---+---+------+\n",
      "|  Name|age|exp|Salary|\n",
      "+------+---+---+------+\n",
      "|Sachin| 31| 11| 50000|\n",
      "| Rahul| 34| 16| 60000|\n",
      "|   Raj| 21|  2| 15000|\n",
      "|  Kimi| 26|  1| 20000|\n",
      "|  Paul| 23|  5| 25000|\n",
      "|Harsha| 39| 13| 45000|\n",
      "|  Deep| 22|  4| 26000|\n",
      "|  Anna| 20|  2| 15000|\n",
      "+------+---+---+------+\n",
      "\n"
     ]
    }
   ],
   "source": [
    "data.show()"
   ]
  },
  {
   "cell_type": "markdown",
   "id": "99cd6da8",
   "metadata": {},
   "source": [
    "### Filter Operation"
   ]
  },
  {
   "cell_type": "code",
   "execution_count": 15,
   "id": "e56a65bc",
   "metadata": {},
   "outputs": [
    {
     "name": "stdout",
     "output_type": "stream",
     "text": [
      "+----+---+---+------+\n",
      "|Name|age|exp|Salary|\n",
      "+----+---+---+------+\n",
      "| Raj| 21|  2| 15000|\n",
      "|Kimi| 26|  1| 20000|\n",
      "|Anna| 20|  2| 15000|\n",
      "+----+---+---+------+\n",
      "\n"
     ]
    }
   ],
   "source": [
    "### Salary less than 20K\n",
    "data.filter('Salary<=20000').show()"
   ]
  },
  {
   "cell_type": "code",
   "execution_count": 16,
   "id": "ac4062ae",
   "metadata": {},
   "outputs": [
    {
     "name": "stdout",
     "output_type": "stream",
     "text": [
      "+----+---+\n",
      "|Name|age|\n",
      "+----+---+\n",
      "| Raj| 21|\n",
      "|Kimi| 26|\n",
      "|Anna| 20|\n",
      "+----+---+\n",
      "\n"
     ]
    }
   ],
   "source": [
    "data.filter('Salary<=20000').select(['Name','age']).show()"
   ]
  },
  {
   "cell_type": "code",
   "execution_count": 18,
   "id": "d020b63e",
   "metadata": {},
   "outputs": [
    {
     "name": "stdout",
     "output_type": "stream",
     "text": [
      "+----+---+---+------+\n",
      "|Name|age|exp|Salary|\n",
      "+----+---+---+------+\n",
      "| Raj| 21|  2| 15000|\n",
      "|Kimi| 26|  1| 20000|\n",
      "|Anna| 20|  2| 15000|\n",
      "+----+---+---+------+\n",
      "\n"
     ]
    }
   ],
   "source": [
    "data.filter(data['Salary']<=20000).show()"
   ]
  },
  {
   "cell_type": "code",
   "execution_count": 21,
   "id": "45d556e5",
   "metadata": {},
   "outputs": [
    {
     "name": "stdout",
     "output_type": "stream",
     "text": [
      "+----+---+---+------+\n",
      "|Name|age|exp|Salary|\n",
      "+----+---+---+------+\n",
      "|Kimi| 26|  1| 20000|\n",
      "+----+---+---+------+\n",
      "\n"
     ]
    }
   ],
   "source": [
    "data.filter((data['Salary']<=20000) & \n",
    "           (data['Salary']>15000)).show()"
   ]
  },
  {
   "cell_type": "code",
   "execution_count": 22,
   "id": "1652edc4",
   "metadata": {},
   "outputs": [
    {
     "name": "stdout",
     "output_type": "stream",
     "text": [
      "+------+---+---+------+\n",
      "|  Name|age|exp|Salary|\n",
      "+------+---+---+------+\n",
      "|Sachin| 31| 11| 50000|\n",
      "| Rahul| 34| 16| 60000|\n",
      "|  Paul| 23|  5| 25000|\n",
      "|Harsha| 39| 13| 45000|\n",
      "|  Deep| 22|  4| 26000|\n",
      "+------+---+---+------+\n",
      "\n"
     ]
    }
   ],
   "source": [
    "data.filter(~(data['Salary']<=20000)).show()"
   ]
  },
  {
   "cell_type": "code",
   "execution_count": null,
   "id": "2e5363e6",
   "metadata": {},
   "outputs": [],
   "source": []
  }
 ],
 "metadata": {
  "kernelspec": {
   "display_name": "Python 3 (ipykernel)",
   "language": "python",
   "name": "python3"
  },
  "language_info": {
   "codemirror_mode": {
    "name": "ipython",
    "version": 3
   },
   "file_extension": ".py",
   "mimetype": "text/x-python",
   "name": "python",
   "nbconvert_exporter": "python",
   "pygments_lexer": "ipython3",
   "version": "3.10.5"
  }
 },
 "nbformat": 4,
 "nbformat_minor": 5
}
