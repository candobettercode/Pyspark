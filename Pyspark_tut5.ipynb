{
 "cells": [
  {
   "cell_type": "code",
   "execution_count": 1,
   "id": "523ae91b",
   "metadata": {},
   "outputs": [],
   "source": [
    "import pyspark"
   ]
  },
  {
   "cell_type": "code",
   "execution_count": 3,
   "id": "360e5ece",
   "metadata": {},
   "outputs": [],
   "source": [
    "from pyspark.sql import SparkSession"
   ]
  },
  {
   "cell_type": "code",
   "execution_count": 4,
   "id": "a973c259",
   "metadata": {},
   "outputs": [],
   "source": [
    "spart = SparkSession.builder.appName('practise').getOrCreate()"
   ]
  },
  {
   "cell_type": "code",
   "execution_count": 6,
   "id": "98a29027",
   "metadata": {},
   "outputs": [],
   "source": [
    "data = spart.read.csv('emp.csv',header=True, inferSchema = True)"
   ]
  },
  {
   "cell_type": "code",
   "execution_count": 8,
   "id": "805ac279",
   "metadata": {},
   "outputs": [
    {
     "name": "stdout",
     "output_type": "stream",
     "text": [
      "+------+---+---+------+----+\n",
      "|  Name|age|exp|Salary|dept|\n",
      "+------+---+---+------+----+\n",
      "|Sachin| 31| 11| 50000|  hr|\n",
      "| Rahul| 34| 16| 60000|tech|\n",
      "|   Raj| 21|  2| 15000|mark|\n",
      "|  Kimi| 26|  1| 20000|  hr|\n",
      "|  Paul| 23|  5| 25000|tech|\n",
      "|Harsha| 39| 13| 45000|tech|\n",
      "|  Deep| 22|  4| 26000|prod|\n",
      "|  Anna| 20|  2| 15000|mark|\n",
      "+------+---+---+------+----+\n",
      "\n"
     ]
    }
   ],
   "source": [
    "data.show()"
   ]
  },
  {
   "cell_type": "code",
   "execution_count": 9,
   "id": "c32613a3",
   "metadata": {},
   "outputs": [
    {
     "name": "stdout",
     "output_type": "stream",
     "text": [
      "root\n",
      " |-- Name: string (nullable = true)\n",
      " |-- age: integer (nullable = true)\n",
      " |-- exp: integer (nullable = true)\n",
      " |-- Salary: integer (nullable = true)\n",
      " |-- dept: string (nullable = true)\n",
      "\n"
     ]
    }
   ],
   "source": [
    "data.printSchema()"
   ]
  },
  {
   "cell_type": "code",
   "execution_count": 11,
   "id": "68720d7d",
   "metadata": {},
   "outputs": [
    {
     "name": "stdout",
     "output_type": "stream",
     "text": [
      "+----+--------+--------+-----------+\n",
      "|dept|sum(age)|sum(exp)|sum(Salary)|\n",
      "+----+--------+--------+-----------+\n",
      "|prod|      22|       4|      26000|\n",
      "|  hr|      57|      12|      70000|\n",
      "|mark|      41|       4|      30000|\n",
      "|tech|      96|      34|     130000|\n",
      "+----+--------+--------+-----------+\n",
      "\n"
     ]
    }
   ],
   "source": [
    "##Group by op\n",
    "data.groupBy('dept').sum().show()"
   ]
  },
  {
   "cell_type": "code",
   "execution_count": 12,
   "id": "05b57b6b",
   "metadata": {},
   "outputs": [
    {
     "name": "stdout",
     "output_type": "stream",
     "text": [
      "+------+--------+--------+-----------+\n",
      "|  Name|sum(age)|sum(exp)|sum(Salary)|\n",
      "+------+--------+--------+-----------+\n",
      "|  Kimi|      26|       1|      20000|\n",
      "|  Anna|      20|       2|      15000|\n",
      "|  Deep|      22|       4|      26000|\n",
      "| Rahul|      34|      16|      60000|\n",
      "|   Raj|      21|       2|      15000|\n",
      "|Harsha|      39|      13|      45000|\n",
      "|  Paul|      23|       5|      25000|\n",
      "|Sachin|      31|      11|      50000|\n",
      "+------+--------+--------+-----------+\n",
      "\n"
     ]
    }
   ],
   "source": [
    "data.groupBy('Name').sum().show()"
   ]
  },
  {
   "cell_type": "code",
   "execution_count": 14,
   "id": "e747f473",
   "metadata": {},
   "outputs": [
    {
     "name": "stdout",
     "output_type": "stream",
     "text": [
      "+----+--------+--------+-----------+\n",
      "|dept|max(age)|max(exp)|max(Salary)|\n",
      "+----+--------+--------+-----------+\n",
      "|prod|      22|       4|      26000|\n",
      "|  hr|      31|      11|      50000|\n",
      "|mark|      21|       2|      15000|\n",
      "|tech|      39|      16|      60000|\n",
      "+----+--------+--------+-----------+\n",
      "\n"
     ]
    }
   ],
   "source": [
    "data.groupBy('dept').max().show()"
   ]
  },
  {
   "cell_type": "code",
   "execution_count": 15,
   "id": "d632e2ed",
   "metadata": {},
   "outputs": [
    {
     "name": "stdout",
     "output_type": "stream",
     "text": [
      "+----+--------+------------------+------------------+\n",
      "|dept|avg(age)|          avg(exp)|       avg(Salary)|\n",
      "+----+--------+------------------+------------------+\n",
      "|prod|    22.0|               4.0|           26000.0|\n",
      "|  hr|    28.5|               6.0|           35000.0|\n",
      "|mark|    20.5|               2.0|           15000.0|\n",
      "|tech|    32.0|11.333333333333334|43333.333333333336|\n",
      "+----+--------+------------------+------------------+\n",
      "\n"
     ]
    }
   ],
   "source": [
    "data.groupBy('dept').mean().show()"
   ]
  },
  {
   "cell_type": "code",
   "execution_count": 16,
   "id": "d756d254",
   "metadata": {},
   "outputs": [
    {
     "name": "stdout",
     "output_type": "stream",
     "text": [
      "+----+-----+\n",
      "|dept|count|\n",
      "+----+-----+\n",
      "|prod|    1|\n",
      "|  hr|    2|\n",
      "|mark|    2|\n",
      "|tech|    3|\n",
      "+----+-----+\n",
      "\n"
     ]
    }
   ],
   "source": [
    "data.groupBy('dept').count().show()"
   ]
  },
  {
   "cell_type": "code",
   "execution_count": 17,
   "id": "6ae008d4",
   "metadata": {},
   "outputs": [
    {
     "name": "stdout",
     "output_type": "stream",
     "text": [
      "+-----------+\n",
      "|sum(Salary)|\n",
      "+-----------+\n",
      "|     256000|\n",
      "+-----------+\n",
      "\n"
     ]
    }
   ],
   "source": [
    "##another way \n",
    "data.agg({'Salary':'sum'}).show()"
   ]
  },
  {
   "cell_type": "code",
   "execution_count": 18,
   "id": "79352966",
   "metadata": {},
   "outputs": [
    {
     "name": "stdout",
     "output_type": "stream",
     "text": [
      "+----+-----------+\n",
      "|dept|max(Salary)|\n",
      "+----+-----------+\n",
      "|prod|      26000|\n",
      "|  hr|      50000|\n",
      "|mark|      15000|\n",
      "|tech|      60000|\n",
      "+----+-----------+\n",
      "\n"
     ]
    }
   ],
   "source": [
    "data.select(['dept','Salary']).groupBy('dept').max().show()"
   ]
  },
  {
   "cell_type": "code",
   "execution_count": 19,
   "id": "78a481f2",
   "metadata": {},
   "outputs": [
    {
     "name": "stdout",
     "output_type": "stream",
     "text": [
      "+----+--------+\n",
      "|dept|max(age)|\n",
      "+----+--------+\n",
      "|prod|      22|\n",
      "|  hr|      31|\n",
      "|mark|      21|\n",
      "|tech|      39|\n",
      "+----+--------+\n",
      "\n"
     ]
    }
   ],
   "source": [
    "data.select(['dept','age']).groupBy('dept').max().show()"
   ]
  },
  {
   "cell_type": "code",
   "execution_count": null,
   "id": "ae016ce5",
   "metadata": {},
   "outputs": [],
   "source": []
  }
 ],
 "metadata": {
  "kernelspec": {
   "display_name": "Python 3 (ipykernel)",
   "language": "python",
   "name": "python3"
  },
  "language_info": {
   "codemirror_mode": {
    "name": "ipython",
    "version": 3
   },
   "file_extension": ".py",
   "mimetype": "text/x-python",
   "name": "python",
   "nbconvert_exporter": "python",
   "pygments_lexer": "ipython3",
   "version": "3.10.5"
  }
 },
 "nbformat": 4,
 "nbformat_minor": 5
}
