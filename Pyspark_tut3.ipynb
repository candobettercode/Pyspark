{
 "cells": [
  {
   "cell_type": "code",
   "execution_count": 1,
   "id": "ea8593a1",
   "metadata": {},
   "outputs": [],
   "source": [
    "import pyspark"
   ]
  },
  {
   "cell_type": "code",
   "execution_count": 2,
   "id": "0b984b15",
   "metadata": {},
   "outputs": [],
   "source": [
    "from pyspark.sql import SparkSession"
   ]
  },
  {
   "cell_type": "code",
   "execution_count": 4,
   "id": "cf178795",
   "metadata": {},
   "outputs": [],
   "source": [
    "spart = SparkSession.builder.appName('practise').getOrCreate()"
   ]
  },
  {
   "cell_type": "code",
   "execution_count": 7,
   "id": "ab2211eb",
   "metadata": {},
   "outputs": [],
   "source": [
    "data=spart.read.csv('emp.csv',header=True,inferSchema=True)"
   ]
  },
  {
   "cell_type": "code",
   "execution_count": 8,
   "id": "ffa3e867",
   "metadata": {},
   "outputs": [
    {
     "name": "stdout",
     "output_type": "stream",
     "text": [
      "+------+----+----+------+\n",
      "|  Name| age| exp|Salary|\n",
      "+------+----+----+------+\n",
      "|Sachin|  31|  11| 50000|\n",
      "| Rahul|  34|  16| 60000|\n",
      "|   Raj|  21|   2| 15000|\n",
      "|  Kimi|  26|   1| 20000|\n",
      "|  Paul|null|   5| 25000|\n",
      "|Harsha|  39|  13| 45000|\n",
      "|  Deep|  22|null|  null|\n",
      "|  Anna|  20|null| 15000|\n",
      "|  null|  32|  10| 40000|\n",
      "|  null|  21|   2| 20000|\n",
      "+------+----+----+------+\n",
      "\n"
     ]
    }
   ],
   "source": [
    "data.show()"
   ]
  },
  {
   "cell_type": "code",
   "execution_count": 9,
   "id": "de6da6fe",
   "metadata": {},
   "outputs": [
    {
     "name": "stdout",
     "output_type": "stream",
     "text": [
      "+----+----+------+\n",
      "| age| exp|Salary|\n",
      "+----+----+------+\n",
      "|  31|  11| 50000|\n",
      "|  34|  16| 60000|\n",
      "|  21|   2| 15000|\n",
      "|  26|   1| 20000|\n",
      "|null|   5| 25000|\n",
      "|  39|  13| 45000|\n",
      "|  22|null|  null|\n",
      "|  20|null| 15000|\n",
      "|  32|  10| 40000|\n",
      "|  21|   2| 20000|\n",
      "+----+----+------+\n",
      "\n"
     ]
    }
   ],
   "source": [
    "#drop column\n",
    "data.drop('Name').show()"
   ]
  },
  {
   "cell_type": "code",
   "execution_count": 10,
   "id": "53cdb58e",
   "metadata": {},
   "outputs": [
    {
     "name": "stdout",
     "output_type": "stream",
     "text": [
      "+------+---+---+------+\n",
      "|  Name|age|exp|Salary|\n",
      "+------+---+---+------+\n",
      "|Sachin| 31| 11| 50000|\n",
      "| Rahul| 34| 16| 60000|\n",
      "|   Raj| 21|  2| 15000|\n",
      "|  Kimi| 26|  1| 20000|\n",
      "|Harsha| 39| 13| 45000|\n",
      "+------+---+---+------+\n",
      "\n"
     ]
    }
   ],
   "source": [
    "data.na.drop().show()"
   ]
  },
  {
   "cell_type": "code",
   "execution_count": 11,
   "id": "51fc3209",
   "metadata": {},
   "outputs": [
    {
     "name": "stdout",
     "output_type": "stream",
     "text": [
      "+------+----+----+------+\n",
      "|  Name| age| exp|Salary|\n",
      "+------+----+----+------+\n",
      "|Sachin|  31|  11| 50000|\n",
      "| Rahul|  34|  16| 60000|\n",
      "|   Raj|  21|   2| 15000|\n",
      "|  Kimi|  26|   1| 20000|\n",
      "|  Paul|null|   5| 25000|\n",
      "|Harsha|  39|  13| 45000|\n",
      "|  Deep|  22|null|  null|\n",
      "|  Anna|  20|null| 15000|\n",
      "|  null|  32|  10| 40000|\n",
      "|  null|  21|   2| 20000|\n",
      "+------+----+----+------+\n",
      "\n"
     ]
    }
   ],
   "source": [
    "### any == how\n",
    "data.na.drop(how='all').show()"
   ]
  },
  {
   "cell_type": "code",
   "execution_count": 12,
   "id": "d9cb8e25",
   "metadata": {},
   "outputs": [
    {
     "name": "stdout",
     "output_type": "stream",
     "text": [
      "+------+---+---+------+\n",
      "|  Name|age|exp|Salary|\n",
      "+------+---+---+------+\n",
      "|Sachin| 31| 11| 50000|\n",
      "| Rahul| 34| 16| 60000|\n",
      "|   Raj| 21|  2| 15000|\n",
      "|  Kimi| 26|  1| 20000|\n",
      "|Harsha| 39| 13| 45000|\n",
      "+------+---+---+------+\n",
      "\n"
     ]
    }
   ],
   "source": [
    "data.na.drop(how='any').show()"
   ]
  },
  {
   "cell_type": "code",
   "execution_count": 21,
   "id": "74b070ae",
   "metadata": {},
   "outputs": [
    {
     "name": "stdout",
     "output_type": "stream",
     "text": [
      "+------+----+----+------+\n",
      "|  Name| age| exp|Salary|\n",
      "+------+----+----+------+\n",
      "|Sachin|  31|  11| 50000|\n",
      "| Rahul|  34|  16| 60000|\n",
      "|   Raj|  21|   2| 15000|\n",
      "|  Kimi|  26|   1| 20000|\n",
      "|  Paul|null|   5| 25000|\n",
      "|Harsha|  39|  13| 45000|\n",
      "|  Deep|  22|null|  null|\n",
      "|  Anna|  20|null| 15000|\n",
      "|  null|  32|  10| 40000|\n",
      "|  null|  21|   2| 20000|\n",
      "+------+----+----+------+\n",
      "\n"
     ]
    }
   ],
   "source": [
    "###threshold\n",
    "data.na.drop(how='any',thresh=2).show()"
   ]
  },
  {
   "cell_type": "code",
   "execution_count": 24,
   "id": "0491d1df",
   "metadata": {},
   "outputs": [
    {
     "name": "stdout",
     "output_type": "stream",
     "text": [
      "+------+----+---+------+\n",
      "|  Name| age|exp|Salary|\n",
      "+------+----+---+------+\n",
      "|Sachin|  31| 11| 50000|\n",
      "| Rahul|  34| 16| 60000|\n",
      "|   Raj|  21|  2| 15000|\n",
      "|  Kimi|  26|  1| 20000|\n",
      "|  Paul|null|  5| 25000|\n",
      "|Harsha|  39| 13| 45000|\n",
      "|  null|  32| 10| 40000|\n",
      "|  null|  21|  2| 20000|\n",
      "+------+----+---+------+\n",
      "\n"
     ]
    }
   ],
   "source": [
    "###Subset\n",
    "data.na.drop(how='all',subset=['exp']).show()"
   ]
  },
  {
   "cell_type": "code",
   "execution_count": 29,
   "id": "6191ff9c",
   "metadata": {},
   "outputs": [
    {
     "name": "stdout",
     "output_type": "stream",
     "text": [
      "+--------------+----+----+------+\n",
      "|          Name| age| exp|Salary|\n",
      "+--------------+----+----+------+\n",
      "|        Sachin|  31|  11| 50000|\n",
      "|         Rahul|  34|  16| 60000|\n",
      "|           Raj|  21|   2| 15000|\n",
      "|          Kimi|  26|   1| 20000|\n",
      "|          Paul|null|   5| 25000|\n",
      "|        Harsha|  39|  13| 45000|\n",
      "|          Deep|  22|null|  null|\n",
      "|          Anna|  20|null| 15000|\n",
      "|Missing Values|  32|  10| 40000|\n",
      "|Missing Values|  21|   2| 20000|\n",
      "+--------------+----+----+------+\n",
      "\n"
     ]
    }
   ],
   "source": [
    "###fill the missing values\n",
    "data.na.fill('Missing Values').show()"
   ]
  },
  {
   "cell_type": "code",
   "execution_count": 31,
   "id": "e8e39746",
   "metadata": {},
   "outputs": [
    {
     "name": "stdout",
     "output_type": "stream",
     "text": [
      "+------+----+----+------+\n",
      "|  Name| age| exp|Salary|\n",
      "+------+----+----+------+\n",
      "|Sachin|  31|  11| 50000|\n",
      "| Rahul|  34|  16| 60000|\n",
      "|   Raj|  21|   2| 15000|\n",
      "|  Kimi|  26|   1| 20000|\n",
      "|  Paul|null|   5| 25000|\n",
      "|Harsha|  39|  13| 45000|\n",
      "|  Deep|  22|null|  null|\n",
      "|  Anna|  20|null| 15000|\n",
      "|  null|  32|  10| 40000|\n",
      "|  null|  21|   2| 20000|\n",
      "+------+----+----+------+\n",
      "\n"
     ]
    }
   ],
   "source": [
    "data.na.fill('Missing Values',['exp','age']).show()"
   ]
  },
  {
   "cell_type": "code",
   "execution_count": 32,
   "id": "b371ce21",
   "metadata": {},
   "outputs": [],
   "source": [
    "from pyspark.ml.feature import Imputer\n",
    "\n",
    "imputer = Imputer(\n",
    "inputCols=['age','exp','Salary'],\n",
    "outputCols=[\"{}_imputed\".format(c) for c in ['age','exp','Salary']]\n",
    ").setStrategy('mean')"
   ]
  },
  {
   "cell_type": "code",
   "execution_count": 33,
   "id": "2eb50c69",
   "metadata": {},
   "outputs": [
    {
     "name": "stdout",
     "output_type": "stream",
     "text": [
      "+------+----+----+------+-----------+-----------+--------------+\n",
      "|  Name| age| exp|Salary|age_imputed|exp_imputed|Salary_imputed|\n",
      "+------+----+----+------+-----------+-----------+--------------+\n",
      "|Sachin|  31|  11| 50000|         31|         11|         50000|\n",
      "| Rahul|  34|  16| 60000|         34|         16|         60000|\n",
      "|   Raj|  21|   2| 15000|         21|          2|         15000|\n",
      "|  Kimi|  26|   1| 20000|         26|          1|         20000|\n",
      "|  Paul|null|   5| 25000|         27|          5|         25000|\n",
      "|Harsha|  39|  13| 45000|         39|         13|         45000|\n",
      "|  Deep|  22|null|  null|         22|          7|         32222|\n",
      "|  Anna|  20|null| 15000|         20|          7|         15000|\n",
      "|  null|  32|  10| 40000|         32|         10|         40000|\n",
      "|  null|  21|   2| 20000|         21|          2|         20000|\n",
      "+------+----+----+------+-----------+-----------+--------------+\n",
      "\n"
     ]
    }
   ],
   "source": [
    "# add imputation cols to df\n",
    "imputer.fit(data).transform(data).show()"
   ]
  },
  {
   "cell_type": "code",
   "execution_count": 34,
   "id": "1ad89d01",
   "metadata": {},
   "outputs": [],
   "source": [
    "from pyspark.ml.feature import Imputer\n",
    "\n",
    "imputer = Imputer(\n",
    "inputCols=['age','exp','Salary'],\n",
    "outputCols=[\"{}_imputed\".format(c) for c in ['age','exp','Salary']]\n",
    ").setStrategy('median')"
   ]
  },
  {
   "cell_type": "code",
   "execution_count": 35,
   "id": "b9212a65",
   "metadata": {},
   "outputs": [
    {
     "name": "stdout",
     "output_type": "stream",
     "text": [
      "+------+----+----+------+-----------+-----------+--------------+\n",
      "|  Name| age| exp|Salary|age_imputed|exp_imputed|Salary_imputed|\n",
      "+------+----+----+------+-----------+-----------+--------------+\n",
      "|Sachin|  31|  11| 50000|         31|         11|         50000|\n",
      "| Rahul|  34|  16| 60000|         34|         16|         60000|\n",
      "|   Raj|  21|   2| 15000|         21|          2|         15000|\n",
      "|  Kimi|  26|   1| 20000|         26|          1|         20000|\n",
      "|  Paul|null|   5| 25000|         26|          5|         25000|\n",
      "|Harsha|  39|  13| 45000|         39|         13|         45000|\n",
      "|  Deep|  22|null|  null|         22|          5|         25000|\n",
      "|  Anna|  20|null| 15000|         20|          5|         15000|\n",
      "|  null|  32|  10| 40000|         32|         10|         40000|\n",
      "|  null|  21|   2| 20000|         21|          2|         20000|\n",
      "+------+----+----+------+-----------+-----------+--------------+\n",
      "\n"
     ]
    }
   ],
   "source": [
    "imputer.fit(data).transform(data).show()"
   ]
  },
  {
   "cell_type": "code",
   "execution_count": null,
   "id": "f5eaed6e",
   "metadata": {},
   "outputs": [],
   "source": []
  }
 ],
 "metadata": {
  "kernelspec": {
   "display_name": "Python 3 (ipykernel)",
   "language": "python",
   "name": "python3"
  },
  "language_info": {
   "codemirror_mode": {
    "name": "ipython",
    "version": 3
   },
   "file_extension": ".py",
   "mimetype": "text/x-python",
   "name": "python",
   "nbconvert_exporter": "python",
   "pygments_lexer": "ipython3",
   "version": "3.10.5"
  }
 },
 "nbformat": 4,
 "nbformat_minor": 5
}
